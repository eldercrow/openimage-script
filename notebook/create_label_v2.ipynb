{
 "cells": [
  {
   "cell_type": "code",
   "execution_count": 1,
   "metadata": {},
   "outputs": [],
   "source": [
    "import numpy as np\n",
    "import csv\n",
    "import json\n",
    "import os\n",
    "from collections import defaultdict"
   ]
  },
  {
   "cell_type": "markdown",
   "metadata": {},
   "source": [
    "Load positive and negative labels for all images.\n",
    "Options: 'train' or 'validation'"
   ]
  },
  {
   "cell_type": "code",
   "execution_count": 65,
   "metadata": {},
   "outputs": [],
   "source": [
    "db_type = 'validation'"
   ]
  },
  {
   "cell_type": "markdown",
   "metadata": {},
   "source": [
    "Get image IDs, then load image-level labels for all the images."
   ]
  },
  {
   "cell_type": "code",
   "execution_count": 66,
   "metadata": {},
   "outputs": [],
   "source": [
    "fn_iid = './data/annotations/{}-images-with-rotation.csv'.format(db_type)\n",
    "if not os.path.isfile(fn_iid):\n",
    "    fn_iid = './data/annotations/{}-images-boxable-with-rotation.csv'.format(db_type)\n",
    "\n",
    "iid_all = []\n",
    "with open(fn_iid, 'r', newline='') as fh:\n",
    "    reader = csv.reader(fh)\n",
    "    for ii, row in enumerate(reader):\n",
    "        if ii == 0:\n",
    "            continue\n",
    "        iid_all.append(row[0])\n",
    "iid_all = set(iid_all)"
   ]
  },
  {
   "cell_type": "code",
   "execution_count": 67,
   "metadata": {},
   "outputs": [],
   "source": [
    "fn_image_label = './data/annotations/{}-annotations-human-imagelabels.csv'.format(db_type)\n",
    "pos_labels = defaultdict(list)\n",
    "neg_labels = defaultdict(list)\n",
    "pos_counter = defaultdict(lambda: 0)\n",
    "neg_counter = defaultdict(lambda: 0)\n",
    "\n",
    "with open(fn_image_label, 'r', newline='') as fh:\n",
    "    reader = csv.reader(fh)\n",
    "    for ii, row in enumerate(reader):\n",
    "        if ii == 0:\n",
    "            continue\n",
    "        iid, _, cid, is_pos = row\n",
    "        if iid not in iid_all:\n",
    "            continue\n",
    "#         cname = cls_desc[cid]\n",
    "        if int(is_pos) == 1:\n",
    "            pos_labels[iid].append(cid)\n",
    "            pos_counter[cid] += 1\n",
    "        else:\n",
    "            neg_labels[iid].append(cid)\n",
    "            neg_counter[cid] += 1\n",
    "            \n",
    "pos_labels = dict(pos_labels)\n",
    "neg_labels = dict(neg_labels)"
   ]
  },
  {
   "cell_type": "markdown",
   "metadata": {},
   "source": [
    "If train, get valid labels."
   ]
  },
  {
   "cell_type": "code",
   "execution_count": 68,
   "metadata": {},
   "outputs": [],
   "source": [
    "if db_type == 'train':\n",
    "    valid_pos = [k for k, v in pos_counter.items() if v >= 200]\n",
    "    valid_neg = [k for k, v in neg_counter.items() if v >= 200]\n",
    "    valid_pn = set(valid_pos + valid_neg)\n",
    "    valid_all = set([k for k in valid_pn if pos_counter[k] + neg_counter[k] >= 500])\n",
    "    \n",
    "    fn_class_desc = 'data/annotations/class-descriptions.csv'\n",
    "    class_desc = {}\n",
    "    class_desc = open(fn_class_desc, 'r').read().splitlines()\n",
    "    class_desc = [cdesc.split(',') for cdesc in class_desc]\n",
    "    class_desc = {c[0].strip(): c[1].strip() for c in class_desc}    \n",
    "        \n",
    "    # save valid labels in a file\n",
    "    fn_valid_labels = 'data/annotations/hyunjoon/labels_used.txt'\n",
    "    with open(fn_valid_labels, 'w') as fh:\n",
    "        for k in valid_all:\n",
    "            np = pos_counter[k]\n",
    "            nn = neg_counter[k]\n",
    "            na = np + nn\n",
    "            fh.write('{}, {}, {}, {}, {}\\n'.format(k, np, nn, na, class_desc[k]))\n",
    "else:\n",
    "    valid_all = open('data/annotations/hyunjoon/labels_used.txt').read().splitlines()\n",
    "    valid_all = [v.split(',')[0].strip() for v in valid_all]"
   ]
  },
  {
   "cell_type": "code",
   "execution_count": 69,
   "metadata": {},
   "outputs": [
    {
     "data": {
      "text/plain": [
       "1573"
      ]
     },
     "execution_count": 69,
     "metadata": {},
     "output_type": "execute_result"
    }
   ],
   "source": [
    "len(valid_all)"
   ]
  },
  {
   "cell_type": "markdown",
   "metadata": {},
   "source": [
    "Save labels into the two files, one for positive and one for negative"
   ]
  },
  {
   "cell_type": "code",
   "execution_count": 70,
   "metadata": {},
   "outputs": [],
   "source": [
    "iid_all = []"
   ]
  },
  {
   "cell_type": "code",
   "execution_count": 71,
   "metadata": {},
   "outputs": [],
   "source": [
    "fn_positive_labels = 'data/annotations/hyunjoon/{}_positive_imagelabel.txt'.format(db_type)\n",
    "with open(fn_positive_labels, 'w') as fh:\n",
    "    for k, v in pos_labels.items():\n",
    "        vv = [vi for vi in v if vi in valid_all]\n",
    "        if not vv:\n",
    "            continue\n",
    "        # -1 to name2idx to remove 'entity'\n",
    "        one_line = '{}, '.format(k) + ', '.join([vi for vi in vv])\n",
    "        fh.write(one_line + '\\n')\n",
    "        iid_all.append(k)"
   ]
  },
  {
   "cell_type": "code",
   "execution_count": 72,
   "metadata": {},
   "outputs": [],
   "source": [
    "fn_negative_labels = 'data/annotations/hyunjoon/{}_negative_imagelabel.txt'.format(db_type)\n",
    "with open(fn_negative_labels, 'w') as fh:\n",
    "    for k, v in neg_labels.items():\n",
    "        vv = [vi for vi in v if vi in valid_all]\n",
    "        if not vv:\n",
    "            continue\n",
    "        # -1 to name2idx to remove 'entity'\n",
    "        one_line = '{}, '.format(k) + ', '.join([vi for vi in vv])\n",
    "        fh.write(one_line + '\\n')\n",
    "        iid_all.append(k)"
   ]
  },
  {
   "cell_type": "code",
   "execution_count": 73,
   "metadata": {},
   "outputs": [],
   "source": [
    "iid_all = set(iid_all)\n",
    "fn_imagelist = 'data/annotations/hyunjoon/{}_imagelist.txt'.format(db_type)\n",
    "with open(fn_imagelist, 'w') as fh:\n",
    "    for iid in iid_all:\n",
    "        fh.write(iid + '\\n')"
   ]
  },
  {
   "cell_type": "code",
   "execution_count": null,
   "metadata": {},
   "outputs": [],
   "source": []
  }
 ],
 "metadata": {
  "kernelspec": {
   "display_name": "Python 3",
   "language": "python",
   "name": "python3"
  },
  "language_info": {
   "codemirror_mode": {
    "name": "ipython",
    "version": 3
   },
   "file_extension": ".py",
   "mimetype": "text/x-python",
   "name": "python",
   "nbconvert_exporter": "python",
   "pygments_lexer": "ipython3",
   "version": "3.5.2"
  }
 },
 "nbformat": 4,
 "nbformat_minor": 2
}
