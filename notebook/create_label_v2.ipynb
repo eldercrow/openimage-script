{
 "cells": [
  {
   "cell_type": "code",
   "execution_count": 1,
   "metadata": {},
   "outputs": [],
   "source": [
    "import numpy as np\n",
    "import csv\n",
    "import json\n",
    "import os\n",
    "from collections import defaultdict"
   ]
  },
  {
   "cell_type": "code",
   "execution_count": 2,
   "metadata": {},
   "outputs": [],
   "source": [
    "with open('./data/annotation/raw/class-descriptions-boxable.csv', 'r') as fh:\n",
    "    desc_data_boxable = [l.split(',') for l in fh.read().splitlines()]\n",
    "desc_data_boxable = {l[0].strip(): l[1].strip() for l in desc_data_boxable}"
   ]
  },
  {
   "cell_type": "code",
   "execution_count": 3,
   "metadata": {},
   "outputs": [],
   "source": [
    "with open('./data/annotation/raw/class-descriptions.csv', 'r') as fh:\n",
    "    desc_data = [l.split(',') for l in fh.read().splitlines()]\n",
    "desc_data = {l[0].strip(): l[1].strip() for l in desc_data}"
   ]
  },
  {
   "cell_type": "code",
   "execution_count": 4,
   "metadata": {},
   "outputs": [],
   "source": [
    "with open('./data/annotation/raw/classes_trainable.txt', 'r') as fh:\n",
    "    classes_trainable = [l.strip() for l in fh.read().splitlines()]"
   ]
  },
  {
   "cell_type": "code",
   "execution_count": 5,
   "metadata": {},
   "outputs": [],
   "source": [
    "db_type = 'train'"
   ]
  },
  {
   "cell_type": "code",
   "execution_count": 6,
   "metadata": {},
   "outputs": [
    {
     "name": "stdout",
     "output_type": "stream",
     "text": [
      "['ImageID', 'Source', 'LabelName', 'Confidence']\n"
     ]
    }
   ],
   "source": [
    "# image ids with bounding boxes\n",
    "image_ids = set([])\n",
    "fn_label = './data/annotation/raw/{}-annotations-human-imagelabels-boxable.csv'.format(db_type)\n",
    "with open(fn_label, 'r', newline='') as fh:\n",
    "    reader = csv.reader(fh)\n",
    "    for ii, row in enumerate(reader):\n",
    "        if ii < 1:\n",
    "            print(row)\n",
    "        iid = row[0].strip()\n",
    "        image_ids.add(iid)"
   ]
  },
  {
   "cell_type": "code",
   "execution_count": 7,
   "metadata": {},
   "outputs": [
    {
     "name": "stdout",
     "output_type": "stream",
     "text": [
      "['ImageID', 'Source', 'LabelName', 'Confidence']\n"
     ]
    }
   ],
   "source": [
    "label_counter = {k: 0 for k in classes_trainable}\n",
    "fn_label = './data/annotation/raw/{}-annotations-human-imagelabels.csv'.format(db_type)\n",
    "with open(fn_label, 'r', newline='') as fh:\n",
    "    reader = csv.reader(fh)\n",
    "    for ii, row in enumerate(reader):\n",
    "        if ii < 1:\n",
    "            print(row)\n",
    "        if row[0].strip() not in image_ids:\n",
    "            continue\n",
    "        lid = row[2].strip()\n",
    "        if lid in desc_data_boxable:\n",
    "            continue\n",
    "        try:\n",
    "            label_counter[lid] += 1\n",
    "        except:\n",
    "            pass"
   ]
  },
  {
   "cell_type": "code",
   "execution_count": 8,
   "metadata": {},
   "outputs": [],
   "source": [
    "counts = list(label_counter.values())\n",
    "pivot_val = np.sort(counts)[-899]"
   ]
  },
  {
   "cell_type": "code",
   "execution_count": 9,
   "metadata": {},
   "outputs": [],
   "source": [
    "desc_data_additional = {}\n",
    "for k, v in label_counter.items():\n",
    "    if v >= pivot_val:\n",
    "        desc_data_additional[k] = desc_data[k]"
   ]
  },
  {
   "cell_type": "code",
   "execution_count": 10,
   "metadata": {},
   "outputs": [],
   "source": [
    "desc_data_boxable.update(desc_data_additional)"
   ]
  },
  {
   "cell_type": "code",
   "execution_count": 11,
   "metadata": {},
   "outputs": [],
   "source": [
    "# we will train on these classes\n",
    "with open('./data/annotation/classes_all.txt', 'w') as fh:\n",
    "    fh.write('\\n'.join(desc_data_boxable.keys()))"
   ]
  },
  {
   "cell_type": "code",
   "execution_count": 75,
   "metadata": {},
   "outputs": [],
   "source": []
  },
  {
   "cell_type": "code",
   "execution_count": null,
   "metadata": {},
   "outputs": [],
   "source": []
  }
 ],
 "metadata": {
  "kernelspec": {
   "display_name": "Python 3",
   "language": "python",
   "name": "python3"
  },
  "language_info": {
   "codemirror_mode": {
    "name": "ipython",
    "version": 3
   },
   "file_extension": ".py",
   "mimetype": "text/x-python",
   "name": "python",
   "nbconvert_exporter": "python",
   "pygments_lexer": "ipython3",
   "version": "3.5.2"
  }
 },
 "nbformat": 4,
 "nbformat_minor": 2
}
