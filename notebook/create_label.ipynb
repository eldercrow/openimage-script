{
 "cells": [
  {
   "cell_type": "code",
   "execution_count": 1,
   "metadata": {},
   "outputs": [],
   "source": [
    "import numpy as np\n",
    "import csv\n",
    "import json\n",
    "import os\n",
    "from collections import defaultdict"
   ]
  },
  {
   "cell_type": "code",
   "execution_count": 2,
   "metadata": {},
   "outputs": [],
   "source": [
    "def load_label_hierarchy(fn_tree):\n",
    "    '''\n",
    "    Load and parse label tree. \n",
    "    '''\n",
    "    with open(fn_tree, 'r') as fh:\n",
    "        json_data = json.loads(fh.read())"
   ]
  },
  {
   "cell_type": "markdown",
   "metadata": {},
   "source": [
    "Load class hierarchy and name data."
   ]
  },
  {
   "cell_type": "code",
   "execution_count": 5,
   "metadata": {},
   "outputs": [],
   "source": [
    "with open('./data/annotations/bbox_labels_600_hierarchy.json', 'r') as fh:\n",
    "    json_data = fh.read()\n",
    "class_hierarchy = json.loads(json_data)\n",
    "\n",
    "with open('./data/annotations/class-descriptions-boxable.csv', 'r') as fh:\n",
    "    desc_data = fh.read().splitlines()\n",
    "\n",
    "desc_data = [c.split(',') for c in desc_data]\n",
    "cls_desc = {c[0].strip(): c[1].strip() for c in desc_data}\n",
    "inv_cls_desc = {c[1].strip(): c[0].strip() for c in desc_data}\n",
    "\n",
    "cls_desc['/m/0bl9f'] = 'Entity'\n",
    "inv_cls_desc['Entity'] = '/m/0bl9f'"
   ]
  },
  {
   "cell_type": "code",
   "execution_count": 6,
   "metadata": {},
   "outputs": [],
   "source": [
    "def convert_entry(entry, cls_desc):\n",
    "    cls_name = cls_desc[entry['LabelName']]\n",
    "    res_entry = {}\n",
    "    for childname in ['Subcategory', 'Part']:\n",
    "        if childname in entry:\n",
    "            res_entry[childname] = [convert_entry(e, cls_desc) for e in entry[childname]]\n",
    "    res_entry['LabelName'] = cls_name\n",
    "    return res_entry"
   ]
  },
  {
   "cell_type": "code",
   "execution_count": 7,
   "metadata": {},
   "outputs": [],
   "source": [
    "converted_hierarchy = convert_entry(class_hierarchy, cls_desc)"
   ]
  },
  {
   "cell_type": "markdown",
   "metadata": {},
   "source": [
    "Give a class ID to each class, and build a hierarchy-based positive negative binary label map."
   ]
  },
  {
   "cell_type": "code",
   "execution_count": 8,
   "metadata": {},
   "outputs": [],
   "source": [
    "def list_names(entry, name_list=[]):\n",
    "    name_list.append(entry['LabelName'])\n",
    "    for childname in ['Subcategory', 'Part']:\n",
    "        if childname in entry:\n",
    "            for e in entry[childname]:\n",
    "                list_names(e, name_list) "
   ]
  },
  {
   "cell_type": "code",
   "execution_count": 10,
   "metadata": {},
   "outputs": [],
   "source": [
    "nlist = []\n",
    "list_names(converted_hierarchy, nlist)\n",
    "\n",
    "# keep 'entity' in the index 0\n",
    "name_list = nlist[0:1] + list(set(nlist[1:]))\n",
    "\n",
    "name2idx = {k: name_list.index(k) for k in name_list}\n",
    "idx2name = {name_list.index(k): k for k in name_list}\n",
    "\n",
    "fn_idx2name = 'data/annotations/imagelabel_idx2cname.txt'\n",
    "with open(fn_idx2name, 'w') as fh:\n",
    "    for k, v in idx2name.items():\n",
    "        one_line = '{}, {}\\n'.format(k, v)\n",
    "        fh.write(one_line)\n",
    "\n",
    "fn_idx2cid = 'data/annotations/imagelabel_idx2cid.txt'\n",
    "with open(fn_idx2cid, 'w') as fh:\n",
    "    for k, v in idx2name.items():\n",
    "        one_line = '{}, {}\\n'.format(k, inv_cls_desc[v])\n",
    "        fh.write(one_line)"
   ]
  },
  {
   "cell_type": "markdown",
   "metadata": {},
   "source": [
    "Build the class tree list.\n",
    "Each entry in the list contains its parent(s) and children."
   ]
  },
  {
   "cell_type": "code",
   "execution_count": 11,
   "metadata": {},
   "outputs": [],
   "source": [
    "def build_tree(entry, class_tree, inv_cls_desc, pname):\n",
    "    cname = entry['LabelName']\n",
    "    parent = pname + [cname] if cname is not 'Entity' else pname\n",
    "    children = []\n",
    "\n",
    "    for subname in ['Subcategory', 'Part']:\n",
    "        if subname in entry:\n",
    "            for e in entry[subname]:\n",
    "                children.append(e['LabelName'])\n",
    "                build_tree(e, class_tree, inv_cls_desc, parent)\n",
    "                \n",
    "    class_tree[cname]['parent'] += pname\n",
    "    class_tree[cname]['children'] += children\n",
    "    class_tree[cname]['class_id'].append(inv_cls_desc[cname])"
   ]
  },
  {
   "cell_type": "code",
   "execution_count": 12,
   "metadata": {},
   "outputs": [],
   "source": [
    "class_tree = {cname: {'class_id': [], 'parent': [], 'children': []} for cname in name_list}\n",
    "build_tree(converted_hierarchy, class_tree, inv_cls_desc, [])\n",
    "# remove duplications\n",
    "class_tree = {k: {vk: list(set(vv)) for vk, vv in v.items()}\n",
    "              for k, v in class_tree.items()}"
   ]
  },
  {
   "cell_type": "markdown",
   "metadata": {},
   "source": [
    "Load positive and negative labels for all images.\n",
    "Options: 'train' or 'val'"
   ]
  },
  {
   "cell_type": "code",
   "execution_count": 21,
   "metadata": {},
   "outputs": [],
   "source": [
    "db_type = 'validation'"
   ]
  },
  {
   "cell_type": "code",
   "execution_count": 22,
   "metadata": {},
   "outputs": [],
   "source": [
    "fn_label = './data/annotations/{}-annotations-human-imagelabels-boxable.csv'.format(db_type)\n",
    "pos_labels = defaultdict(list)\n",
    "neg_labels = defaultdict(list)\n",
    "\n",
    "with open(fn_label, 'r', newline='') as fh:\n",
    "    reader = csv.reader(fh)\n",
    "    for ii, row in enumerate(reader):\n",
    "        if ii == 0:\n",
    "            continue\n",
    "        iid, _, cid, is_pos = row\n",
    "        cname = cls_desc[cid]\n",
    "        if int(is_pos) == 1:\n",
    "            pos_labels[iid].append(cname)\n",
    "        else:\n",
    "            neg_labels[iid].append(cname)\n",
    "            \n",
    "pos_labels = dict(pos_labels)\n",
    "neg_labels = dict(neg_labels)\n",
    "iid_all = list(set(list(pos_labels.keys()) + list(neg_labels.keys())))"
   ]
  },
  {
   "cell_type": "markdown",
   "metadata": {},
   "source": [
    "Remove images not in the image directory."
   ]
  },
  {
   "cell_type": "code",
   "execution_count": 23,
   "metadata": {},
   "outputs": [],
   "source": [
    "path_img = './data/images/{}'.format(db_type)\n",
    "iid_all = [iid for iid in iid_all if os.path.exists(os.path.join(path_img, iid+'.jpg'))]"
   ]
  },
  {
   "cell_type": "markdown",
   "metadata": {},
   "source": [
    "Update positive and negative labels w.r.t the class tree.\n",
    "Rules are:\n",
    "1. For a positive label, add its parents as positive.\n",
    "2. For a negative label, add its children as negative."
   ]
  },
  {
   "cell_type": "code",
   "execution_count": 24,
   "metadata": {},
   "outputs": [],
   "source": [
    "def update_labels(labels, class_tree, is_pos):\n",
    "    res = [l for l in labels]\n",
    "    for l in labels:\n",
    "        res += class_tree[l]['parent'] if is_pos else class_tree[l]['children']\n",
    "    return list(set(res))"
   ]
  },
  {
   "cell_type": "code",
   "execution_count": 25,
   "metadata": {},
   "outputs": [],
   "source": [
    "new_pos_labels = {iid: update_labels(labels, class_tree, True)\n",
    "                  for iid, labels in pos_labels.items()}"
   ]
  },
  {
   "cell_type": "code",
   "execution_count": 26,
   "metadata": {},
   "outputs": [],
   "source": [
    "new_neg_labels = {iid: update_labels(labels, class_tree, False)\n",
    "                  for iid, labels in neg_labels.items()}"
   ]
  },
  {
   "cell_type": "markdown",
   "metadata": {},
   "source": [
    "Save labels into the two files, one for positive and one for negative"
   ]
  },
  {
   "cell_type": "code",
   "execution_count": 27,
   "metadata": {},
   "outputs": [],
   "source": [
    "fn_imagelist = 'data/annotations/{}_imagelist.txt'.format(db_type)\n",
    "with open(fn_imagelist, 'w') as fh:\n",
    "    for iid in iid_all:\n",
    "        fh.write(iid + '\\n')"
   ]
  },
  {
   "cell_type": "code",
   "execution_count": 28,
   "metadata": {},
   "outputs": [],
   "source": [
    "fn_positive_labels = 'data/annotations/{}_positive_imagelabel.txt'.format(db_type)\n",
    "with open(fn_positive_labels, 'w') as fh:\n",
    "    for k, v in new_pos_labels.items():\n",
    "        # -1 to name2idx to remove 'entity'\n",
    "        one_line = '{}, '.format(k) + ', '.join([str(name2idx[vi] - 1) for vi in v])\n",
    "        fh.write(one_line + '\\n')"
   ]
  },
  {
   "cell_type": "code",
   "execution_count": 29,
   "metadata": {},
   "outputs": [],
   "source": [
    "fn_negative_labels = 'data/annotations/{}_negative_imagelabel.txt'.format(db_type)\n",
    "with open(fn_negative_labels, 'w') as fh:\n",
    "    for k, v in new_neg_labels.items():\n",
    "        # -1 to name2idx to remove 'entity'\n",
    "        one_line = '{}, '.format(k) + ', '.join([str(name2idx[vi] - 1) for vi in v])\n",
    "        fh.write(one_line + '\\n')"
   ]
  },
  {
   "cell_type": "code",
   "execution_count": null,
   "metadata": {},
   "outputs": [],
   "source": []
  }
 ],
 "metadata": {
  "kernelspec": {
   "display_name": "Python 3",
   "language": "python",
   "name": "python3"
  },
  "language_info": {
   "codemirror_mode": {
    "name": "ipython",
    "version": 3
   },
   "file_extension": ".py",
   "mimetype": "text/x-python",
   "name": "python",
   "nbconvert_exporter": "python",
   "pygments_lexer": "ipython3",
   "version": "3.5.2"
  }
 },
 "nbformat": 4,
 "nbformat_minor": 2
}
